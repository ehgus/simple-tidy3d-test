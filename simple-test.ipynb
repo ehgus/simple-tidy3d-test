{
 "cells": [
  {
   "cell_type": "markdown",
   "metadata": {},
   "source": [
    "# Simple  Tidy3D performance test"
   ]
  },
  {
   "cell_type": "code",
   "execution_count": 1,
   "metadata": {},
   "outputs": [],
   "source": [
    "import os, sys\n",
    "import numpy as np\n",
    "import matplotlib.pyplot as plt\n",
    "import xarray as xr\n",
    "from scipy.io import loadmat\n",
    "\n",
    "import tidy3d as td\n",
    "from tidy3d import web\n",
    "from tidy3d import SpatialDataArray\n",
    "import warnings\n",
    "td.config.logging_level = 'ERROR'"
   ]
  },
  {
   "cell_type": "code",
   "execution_count": 2,
   "metadata": {},
   "outputs": [],
   "source": [
    "current_abs_path = os.path.abspath('')\n",
    "sys.path.append(current_abs_path)\n",
    "from adjoint import *"
   ]
  },
  {
   "cell_type": "markdown",
   "metadata": {},
   "source": [
    "## Inverse design (FDTD)"
   ]
  },
  {
   "cell_type": "code",
   "execution_count": 3,
   "metadata": {},
   "outputs": [],
   "source": [
    "interval = 0 # waiting time for each simulation\n",
    "nm = 1e-3\n",
    "n_out = 1.6380 # photoresist\n",
    "wl0 = 355*nm\n",
    "freq0 = td.C_0 / wl0\n",
    "wl = wl0 / n_out\n",
    "k0 = 2*np.pi/wl\n",
    "period = 1000*nm\n",
    "dkx = 2*np.pi/period\n",
    "impedance = 377 / n_out\n",
    "thickness = 150*nm\n",
    "n_max = 2.9734 + 0.0467j  # TiO2\n",
    "n_min = 1.4338  # PDMS\n",
    "num_params = 100\n",
    "num_iters = 100\n",
    "\n",
    "gradient = np.zeros(num_params)\n",
    "step_size = 0.2\n",
    "target = {-3:0.0, -2:0.0, -1:0.15, 0:0.0, 1: 0.63, 2:0.0, 3:0.22}\n",
    "angles = calculate_angles(k0, period, target)\n",
    "gridx = np.linspace(-500, 500, num_params + 1) * nm\n",
    "gridy = [0] #np.linspace(0, thickness, 16)\n",
    "gridz = [0] #np.linspace(-5, 5, 2) * nm\n",
    "\n",
    "foms = np.zeros(num_iters)\n",
    "rho_arr = np.zeros(shape=(num_iters, num_params))\n",
    "gradient_arr = np.zeros(shape=(num_iters, num_params))"
   ]
  },
  {
   "cell_type": "code",
   "execution_count": 4,
   "metadata": {},
   "outputs": [],
   "source": [
    "# material\n",
    "rho = 0.5 + 0.1*(np.genfromtxt(f\"{current_abs_path}/grating_random_seed.csv\",delimiter=\",\")-0.5)\n",
    "mask_structure = td.Structure(geometry=td.Box(center=(0,90*nm, 0),size=(td.inf,180*nm,10*nm)),\n",
    "                             medium = generate_nk(rho, n_max, n_min, gridx, gridy, gridz),\n",
    "                             name=\"mask\")\n",
    "photoresist_structure = td.Structure(geometry=td.Box(center=(0, -1000*nm,0),size=(2000*nm,2000*nm,100*nm)),\n",
    "                                 medium = td.Medium.from_nk(n_out,0,freq0),\n",
    "                                 name = \"photoresist\")"
   ]
  },
  {
   "cell_type": "code",
   "execution_count": 5,
   "metadata": {},
   "outputs": [],
   "source": [
    "# monitor\n",
    "design_monitor = td.FieldMonitor(\n",
    "    center=(0, 90*nm, 0), size=(2000*nm, 180*nm, 0), freqs=[freq0], name=\"design monitor\"\n",
    ")\n",
    "field_monitor= td.FieldMonitor(\n",
    "    center=(0, -500*nm, 0), size=(2500*nm, 0, 0), freqs=[freq0], name=\"field monitor\"\n",
    ")"
   ]
  },
  {
   "cell_type": "code",
   "execution_count": 6,
   "metadata": {},
   "outputs": [],
   "source": [
    "sim_params=dict(\n",
    "    center=(0, 0, 0),\n",
    "    size=(1000*nm,1600*nm,0),\n",
    "    medium=td.Medium.from_nk(n_min,0,freq0),\n",
    "    grid_spec=td.GridSpec.uniform(dl=10*nm),\n",
    "    structures=[photoresist_structure, mask_structure],\n",
    "    monitors=[design_monitor, field_monitor],\n",
    "    boundary_spec=td.BoundarySpec(\n",
    "        x=td.Boundary(plus=td.Periodic(),minus=td.Periodic()),\n",
    "        y=td.Boundary(plus=td.PML(),minus=td.PML()),\n",
    "        z=td.Boundary(plus=td.Periodic(),minus=td.Periodic())\n",
    "    ),\n",
    "    run_time=2e-11,  # simulation run time,\n",
    "    shutoff=1e-4,\n",
    "    subpixel=False,\n",
    "    normalize_index=None\n",
    ")"
   ]
  },
  {
   "cell_type": "code",
   "execution_count": 7,
   "metadata": {},
   "outputs": [],
   "source": [
    "# get normalized value\n",
    "sim_params['sources'] = [td.PlaneWave(\n",
    "    center=(0, 500*nm, 0),\n",
    "    direction=\"-\",\n",
    "    size=(td.inf, 0, td.inf),\n",
    "    source_time=td.GaussianPulse(freq0=freq0, fwidth=freq0 / 20, amplitude = 1, phase = 0),\n",
    "    pol_angle=np.pi / 2,\n",
    ")]\n",
    "sim_params['structures']=[]\n",
    "sim_params['medium']=td.Medium.from_nk(n_out,0,freq0)\n",
    "    \n",
    "sim = td.Simulation(**sim_params)\n",
    "if os.path.isfile(f\"{current_abs_path}/data/test.hdf5\"):\n",
    "    sim_data = td.SimulationData.from_file(fname=f\"{current_abs_path}/data/test.hdf5\")\n",
    "else:\n",
    "    sim_data = web.run(\n",
    "            sim,\n",
    "            task_name=f\"test\",\n",
    "            path=f\"{current_abs_path}/data/test.hdf5\",\n",
    "            verbose=False\n",
    "        )\n",
    "Efield_norm_value = float(sim_data.load_field_monitor('design monitor').Ez.abs.mean())"
   ]
  },
  {
   "cell_type": "code",
   "execution_count": 11,
   "metadata": {
    "scrolled": true
   },
   "outputs": [
    {
     "name": "stdout",
     "output_type": "stream",
     "text": [
      "Diffraction intensity = [2.29356636e-04 4.17739348e-04 3.05530510e-04 8.74687002e-01\n",
      " 2.78754611e-05 4.87737373e-04 2.83611956e-04]\n",
      "target = [0.   0.   0.15 0.   0.63 0.   0.22]\n"
     ]
    }
   ],
   "source": [
    "sim_params['medium']=td.Medium.from_nk(n_min,0,freq0)\n",
    "n = 'just_for_validation'\n",
    "mask_structure = td.Structure(geometry=td.Box(center=(0,90*nm, 0),size=(td.inf,180*nm,10*nm)),\n",
    "                             medium = generate_nk(rho, n_max, n_min, gridx, gridy, gridz),\n",
    "                             name=\"mask\")\n",
    "sim_params['structures']=[photoresist_structure, mask_structure]\n",
    "fom, E, H, E_fwd, factors, t_conj = forward_sim(sim_params, n, target, wl, period, impedance, freq0, Efield_norm_value)\n",
    "E_adj = adjoint_sim(sim_params, n, factors, t_conj, angles, freq0, Efield_norm_value)"
   ]
  },
  {
   "cell_type": "code",
   "execution_count": 9,
   "metadata": {},
   "outputs": [
    {
     "name": "stdout",
     "output_type": "stream",
     "text": [
      "[05:40:12] USER: Simulation domain Nx, Ny, Nz: [100, 184, 1]                    \n",
      "           USER: Applied symmetries: (0, 0, 0)                                  \n",
      "           USER: Number of computational grid points: 1.8600e+04.               \n",
      "           USER: Subpixel averaging method: SubpixelSpec(attrs={},              \n",
      "           dielectric=Staircasing(attrs={}, type='Staircasing'),                \n",
      "           metal=Staircasing(attrs={}, type='Staircasing'),                     \n",
      "           pec=Staircasing(attrs={}, type='Staircasing'), type='SubpixelSpec')  \n",
      "           USER: Number of time steps: 8.5651e+05                               \n",
      "           USER: Automatic shutoff factor: 1.00e-04                             \n",
      "           USER: Time step (s): 2.3351e-17                                      \n",
      "           USER:                                                                \n",
      "                                                                                \n",
      "           USER: Compute source modes time (s):     0.1904                      \n",
      "           USER: Rest of setup time (s):            0.5241                      \n",
      "[05:40:14] USER: Compute monitor modes time (s):    0.0001                      \n",
      "[05:40:37] USER: Solver time (s):                   21.8030                     \n",
      "           USER: Time-stepping speed (cells/s):     8.78e+07                    \n",
      "           USER: Post-processing time (s):          0.1671                      \n",
      "\n",
      " ====== SOLVER LOG ====== \n",
      "\n",
      "Processing grid and structures...\n",
      "Building FDTD update coefficients...\n",
      "Solver setup time (s):             0.0156\n",
      "\n",
      "Running solver for 856508 time steps...\n",
      "- Time step    807 / time 1.88e-14s (  0 % done), field decay: 1.00e+00\n",
      "- Time step  34260 / time 8.00e-13s (  4 % done), field decay: 6.66e-04\n",
      "- Time step  68520 / time 1.60e-12s (  8 % done), field decay: 2.49e-04\n",
      "- Time step 102780 / time 2.40e-12s ( 12 % done), field decay: 4.63e-05\n",
      "Field decay smaller than shutoff factor, exiting solver.\n",
      "Time-stepping time (s):            21.7845\n",
      "Data write time (s):               0.0035\n",
      "\n"
     ]
    }
   ],
   "source": [
    "sim_data = td.SimulationData.from_file(f'{current_abs_path}/data/forward_just_for_validation.hdf5')\n",
    "print(sim_data.__dict__['log']) # see 'Time-stepping time (s)'"
   ]
  },
  {
   "cell_type": "code",
   "execution_count": 10,
   "metadata": {},
   "outputs": [
    {
     "name": "stdout",
     "output_type": "stream",
     "text": [
      "[05:40:53] WARNING: The wave vector of source 'None' along dimension '0' is     \n",
      "           equal to the Bloch vector of the simulation boundaries along that    \n",
      "           dimension plus an integer reciprocal lattice vector. If using a      \n",
      "           'DiffractionMonitor', diffraction order 0 will not correspond to the \n",
      "           angle of propagation of the source. Consider using                   \n",
      "           'BlochBoundary.from_source()'.                                       \n",
      "           WARNING: The wave vector of source 'None' along dimension '0' is     \n",
      "           equal to the Bloch vector of the simulation boundaries along that    \n",
      "           dimension plus an integer reciprocal lattice vector. If using a      \n",
      "           'DiffractionMonitor', diffraction order 0 will not correspond to the \n",
      "           angle of propagation of the source. Consider using                   \n",
      "           'BlochBoundary.from_source()'.                                       \n",
      "           WARNING: The wave vector of source 'None' along dimension '0' is     \n",
      "           equal to the Bloch vector of the simulation boundaries along that    \n",
      "           dimension plus an integer reciprocal lattice vector. If using a      \n",
      "           'DiffractionMonitor', diffraction order 0 will not correspond to the \n",
      "           angle of propagation of the source. Consider using                   \n",
      "           'BlochBoundary.from_source()'.                                       \n",
      "           WARNING: The wave vector of source 'None' along dimension '0' is     \n",
      "           equal to the Bloch vector of the simulation boundaries along that    \n",
      "           dimension plus an integer reciprocal lattice vector. If using a      \n",
      "           'DiffractionMonitor', diffraction order 0 will not correspond to the \n",
      "           angle of propagation of the source. Consider using                   \n",
      "           'BlochBoundary.from_source()'.                                       \n",
      "           WARNING: The wave vector of source 'None' along dimension '0' is     \n",
      "           equal to the Bloch vector of the simulation boundaries along that    \n",
      "           dimension plus an integer reciprocal lattice vector. If using a      \n",
      "           'DiffractionMonitor', diffraction order 0 will not correspond to the \n",
      "           angle of propagation of the source. Consider using                   \n",
      "           'BlochBoundary.from_source()'.                                       \n",
      "           WARNING: The Bloch vector along dimension '0' may be incorrectly set \n",
      "           with respect to the source 'None'. The absolute difference between   \n",
      "           the expected and provided values in bandstructure units, up to an    \n",
      "           integer offset, is greater than 1e-6. Consider using                 \n",
      "           ``BlochBoundary.from_source()``, or double-check that it was defined \n",
      "           correctly.                                                           \n",
      "[05:40:54] USER: Simulation domain Nx, Ny, Nz: [100, 184, 1]                    \n",
      "           USER: Applied symmetries: (0, 0, 0)                                  \n",
      "           USER: Number of computational grid points: 1.8600e+04.               \n",
      "           USER: Subpixel averaging method: SubpixelSpec(attrs={},              \n",
      "           dielectric=Staircasing(attrs={}, type='Staircasing'),                \n",
      "           metal=Staircasing(attrs={}, type='Staircasing'),                     \n",
      "           pec=Staircasing(attrs={}, type='Staircasing'), type='SubpixelSpec')  \n",
      "           USER: Number of time steps: 8.5651e+05                               \n",
      "           USER: Automatic shutoff factor: 1.00e-04                             \n",
      "           USER: Time step (s): 2.3351e-17                                      \n",
      "           USER:                                                                \n",
      "                                                                                \n",
      "           USER: Compute source modes time (s):     0.4529                      \n",
      "[05:40:55] USER: Rest of setup time (s):            0.9788                      \n",
      "[05:40:57] USER: Compute monitor modes time (s):    0.0001                      \n",
      "[05:41:34] USER: Solver time (s):                   36.5480                     \n",
      "           USER: Time-stepping speed (cells/s):     8.73e+07                    \n",
      "           USER: Post-processing time (s):          0.1491                      \n",
      "\n",
      " ====== SOLVER LOG ====== \n",
      "\n",
      "Processing grid and structures...\n",
      "Building FDTD update coefficients...\n",
      "Solver setup time (s):             0.0529\n",
      "\n",
      "Running solver for 856508 time steps...\n",
      "- Time step    807 / time 1.88e-14s (  0 % done), field decay: 1.00e+00\n",
      "- Time step  34260 / time 8.00e-13s (  4 % done), field decay: 4.75e-04\n",
      "- Time step  68520 / time 1.60e-12s (  8 % done), field decay: 3.48e-04\n",
      "- Time step 102780 / time 2.40e-12s ( 12 % done), field decay: 2.49e-04\n",
      "- Time step 137041 / time 3.20e-12s ( 16 % done), field decay: 1.21e-04\n",
      "- Time step 171301 / time 4.00e-12s ( 20 % done), field decay: 6.59e-05\n",
      "Field decay smaller than shutoff factor, exiting solver.\n",
      "Time-stepping time (s):            36.4915\n",
      "Data write time (s):               0.0037\n",
      "\n"
     ]
    }
   ],
   "source": [
    "sim_data = td.SimulationData.from_file(f'{current_abs_path}/data/adjoint_just_for_validation.hdf5')\n",
    "print(sim_data.__dict__['log']) # see 'Time-stepping time (s)'"
   ]
  },
  {
   "cell_type": "code",
   "execution_count": null,
   "metadata": {},
   "outputs": [],
   "source": []
  }
 ],
 "metadata": {
  "kernelspec": {
   "display_name": "Python 3 (ipykernel)",
   "language": "python",
   "name": "python3"
  },
  "language_info": {
   "codemirror_mode": {
    "name": "ipython",
    "version": 3
   },
   "file_extension": ".py",
   "mimetype": "text/x-python",
   "name": "python",
   "nbconvert_exporter": "python",
   "pygments_lexer": "ipython3",
   "version": "3.10.11"
  }
 },
 "nbformat": 4,
 "nbformat_minor": 4
}
